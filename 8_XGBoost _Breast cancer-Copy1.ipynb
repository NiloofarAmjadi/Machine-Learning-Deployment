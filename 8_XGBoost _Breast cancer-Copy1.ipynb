{
 "cells": [
  {
   "cell_type": "markdown",
   "id": "c8f4b4f2",
   "metadata": {},
   "source": [
    "You are provided with a breast cancer dataset (Breast_Cancer_Data.csv) taken originally from the UCI data repository. \n",
    "https://archive.ics.uci.edu/ml/datasets/breast+cancer+wisconsin+(original).\n",
    "\n",
    "This dataset has approximately 683 patient data having 10 features and 1 class label describing whether the patient has cancer or not. Each row describes one patient, and the class column describes if the patient tumor is benign (label = 2) or malignant (label = 4). For this dataset, build all the classification models (using Python and Scikit-learn) given below (no need to visualize) and tabulate the accuracy and confusion matrix obtained for each. Split the dataset such that the test data size is 25% of the total dataset.\n",
    "\n",
    "8. XGBoost"
   ]
  },
  {
   "cell_type": "code",
   "execution_count": 1,
   "id": "b7eee770",
   "metadata": {},
   "outputs": [],
   "source": [
    "import pandas as pd\n",
    "from sklearn.model_selection import train_test_split\n",
    "from sklearn.metrics import accuracy_score, confusion_matrix"
   ]
  },
  {
   "cell_type": "code",
   "execution_count": 2,
   "id": "bbbdc759",
   "metadata": {},
   "outputs": [],
   "source": [
    "# Load the dataset\n",
    "url = 'https://archive.ics.uci.edu/ml/machine-learning-databases/breast-cancer-wisconsin/breast-cancer-wisconsin.data'\n",
    "column_names = ['id', 'clump_thickness', 'cell_size_uniformity', 'cell_shape_uniformity', 'marginal_adhesion', \n",
    "                'single_epithelial_cell_size', 'bare_nuclei', 'bland_chromatin', 'normal_nucleoli', 'mitoses', 'class']\n",
    "data = pd.read_csv(url, header=None, names=column_names)\n"
   ]
  },
  {
   "cell_type": "code",
   "execution_count": 3,
   "id": "961574d9",
   "metadata": {},
   "outputs": [],
   "source": [
    "# Drop the 'id' column\n",
    "data.drop('id', axis=1, inplace=True)\n",
    "\n",
    "# Replace missing values denoted by '?' with NaN and then drop them\n",
    "data.replace('?', pd.NA, inplace=True)\n",
    "data.dropna(inplace=True)\n",
    "\n",
    "# Convert all columns to numeric\n",
    "data = data.apply(pd.to_numeric)"
   ]
  },
  {
   "cell_type": "markdown",
   "id": "9579a6e8",
   "metadata": {},
   "source": [
    "Split the Dataset"
   ]
  },
  {
   "cell_type": "code",
   "execution_count": 10,
   "id": "4f65d55b",
   "metadata": {},
   "outputs": [],
   "source": [
    "# Map the target variable to 0 and 1\n",
    "data['class'] = data['class'].map({2: 0, 4: 1})\n",
    "\n",
    "# Separate features and target variable\n",
    "X = data.drop('class', axis=1)\n",
    "y = data['class']\n",
    "\n",
    "# Split the dataset into training and testing sets (75% training, 25% testing)\n",
    "X_train, X_test, y_train, y_test = train_test_split(X, y, test_size=0.25, random_state=42)\n"
   ]
  },
  {
   "cell_type": "markdown",
   "id": "dba1cd1f",
   "metadata": {},
   "source": [
    "Build and Evaluate XGBoost"
   ]
  },
  {
   "cell_type": "code",
   "execution_count": 14,
   "id": "84cd08f9",
   "metadata": {},
   "outputs": [
    {
     "name": "stdout",
     "output_type": "stream",
     "text": [
      "XGBoost Accuracy: 0.9532163742690059\n",
      "XGBoost Confusion Matrix:\n",
      "[[102   1]\n",
      " [  7  61]]\n"
     ]
    }
   ],
   "source": [
    "from xgboost import XGBClassifier\n",
    "\n",
    "# Initialize the XGBoost model with binary classification objective\n",
    "XGBoost = XGBClassifier(use_label_encoder=False, eval_metric='mlogloss', objective='binary:logistic')\n",
    "\n",
    "# Train the model\n",
    "XGBoost.fit(X_train, y_train)\n",
    "\n",
    "# Make predictions\n",
    "y_pred = XGBoost.predict(X_test)\n",
    "\n",
    "# Map predictions back to original labels\n",
    "y_pred = pd.Series(y_pred).map({0: 2, 1: 4})\n",
    "\n",
    "# Evaluate the model\n",
    "accuracy = accuracy_score(y_test.map({0: 2, 1: 4}), y_pred)\n",
    "conf_matrix = confusion_matrix(y_test.map({0: 2, 1: 4}), y_pred)\n",
    "\n",
    "# Print the results\n",
    "print(f\"XGBoost Accuracy: {accuracy}\")\n",
    "print(f\"XGBoost Confusion Matrix:\\n{conf_matrix}\")"
   ]
  },
  {
   "cell_type": "code",
   "execution_count": null,
   "id": "2b16beea",
   "metadata": {},
   "outputs": [],
   "source": []
  }
 ],
 "metadata": {
  "kernelspec": {
   "display_name": "Python 3 (ipykernel)",
   "language": "python",
   "name": "python3"
  },
  "language_info": {
   "codemirror_mode": {
    "name": "ipython",
    "version": 3
   },
   "file_extension": ".py",
   "mimetype": "text/x-python",
   "name": "python",
   "nbconvert_exporter": "python",
   "pygments_lexer": "ipython3",
   "version": "3.11.5"
  }
 },
 "nbformat": 4,
 "nbformat_minor": 5
}
